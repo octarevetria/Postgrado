{
 "cells": [
  {
   "cell_type": "code",
   "execution_count": 1,
   "metadata": {},
   "outputs": [],
   "source": [
    "import torch\n",
    "import torch.nn as nn\n",
    "import torch.nn.functional as F\n",
    "import torch.optim as optim\n",
    "\n",
    "import torchvision.datasets as dsets\n",
    "import torchvision.transforms as transforms\n",
    "\n",
    "import numpy as np\n",
    "\n",
    "import matplotlib.pyplot as plt"
   ]
  },
  {
   "cell_type": "markdown",
   "metadata": {},
   "source": [
    "# Introducción a PyTorch\n",
    "\n",
    "\n",
    "[PyTorch](https://pytorch.org/) es una biblioteca de aprendizaje profundo de código abierto basada en el lenguaje de programación Python. Desarrollada por Facebook's AI Research lab, PyTorch se ha convertido en una de las herramientas más populares en el campo de la inteligencia artificial y el aprendizaje automático. En esta notebook, vamos a explorar los conceptos básicos de PyTorch con su unidad de cálculo básica, el [tensor](https://pytorch.org/tutorials/beginner/basics/tensorqs_tutorial.html).\n",
    "\n",
    "Esta notebook esta basada en:\n",
    "\n",
    "- Joe Papa. (2021). _PyTorch Pocket Reference: Building and Deploying Deep Learning Models_. O'Reilly Media, Inc.\n",
    "- [Learning PyTorch with Examples](https://pytorch.org/tutorials/beginner/pytorch_with_examples.html)"
   ]
  },
  {
   "cell_type": "markdown",
   "metadata": {},
   "source": [
    "\n",
    "## ¿Qué es un tensor?\n",
    "\n",
    "Un [tensor](https://pytorch.org/tutorials/beginner/basics/tensorqs_tutorial.html) es una matriz multidimensional que puede contener datos de diferentes tipos (por ejemplo, números enteros, flotantes, etc.). Los tensores son similares a los arreglos de NumPy, pero con la diferencia de que los tensores pueden ser utilizados en una GPU para acelerar los cálculos. En PyTorch, los tensores son la unidad básica de cálculo y se pueden crear de varias maneras.\n",
    "\n",
    "\n",
    "<div style=\"text-align: center;\">\n",
    "    <img src=\"https://miro.medium.com/v2/resize:fit:720/format:webp/1*8jdzMrA33Leu3j3F6A8a3w.png\" width=\"500\" alt=\"PyTorch logo\">\n",
    "</div>"
   ]
  },
  {
   "cell_type": "markdown",
   "metadata": {},
   "source": [
    "## Creación de tensores\n",
    "\n",
    "Se pueden crear tensores de varias maneras en PyTorch. A continuación, se van a mostrar algunos ejemplos comunes de cómo crear tensores en PyTorch."
   ]
  },
  {
   "cell_type": "markdown",
   "metadata": {},
   "source": [
    "### Desde estructuras de datos\n",
    "\n",
    "Podemos crear un tensor a partir de una lista de Python, una tupla, una matriz de NumPy, etc. Para ello, podemos utilizar la función [torch.tensor()](https://pytorch.org/docs/stable/generated/torch.tensor.html)."
   ]
  },
  {
   "cell_type": "code",
   "execution_count": 2,
   "metadata": {},
   "outputs": [
    {
     "name": "stdout",
     "output_type": "stream",
     "text": [
      " x = tensor([1, 2, 3])\n",
      " y = tensor([1, 2, 3])\n",
      " z = tensor([1, 2, 3])\n"
     ]
    }
   ],
   "source": [
    "x = torch.tensor([1, 2, 3])  # creamos a partir de una lista\n",
    "y = torch.tensor((1, 2, 3))  # creamos a partir de una tupla\n",
    "z = torch.tensor(np.array([1, 2, 3]))  # creamos a partir de un array de numpy\n",
    "\n",
    "print(f\"{ x = }\")\n",
    "print(f\"{ y = }\")\n",
    "print(f\"{ z = }\")"
   ]
  },
  {
   "cell_type": "markdown",
   "metadata": {},
   "source": [
    "Probemos con diferentes dimensiones."
   ]
  },
  {
   "cell_type": "code",
   "execution_count": 3,
   "metadata": {},
   "outputs": [
    {
     "name": "stdout",
     "output_type": "stream",
     "text": [
      " w = tensor(5)\n",
      "\n",
      " x = tensor([5, 4, 3])\n",
      "\n",
      " y = tensor([[5, 4, 3],\n",
      "        [2, 1, 0]])\n",
      "\n",
      " z = tensor([[[1, 2],\n",
      "         [3, 4]],\n",
      "\n",
      "        [[5, 6],\n",
      "         [7, 8]]])\n"
     ]
    }
   ],
   "source": [
    "w = torch.tensor(5)  # 0 dimensiones\n",
    "x = torch.tensor([5, 4, 3])  # 1 dimension\n",
    "y = torch.tensor([[5, 4, 3], [2, 1, 0]])  # 2 dimensiones\n",
    "z = torch.tensor([[[1, 2], [3, 4]], [[5, 6], [7, 8]]])  # 3 dimensiones\n",
    "\n",
    "print(f\"{ w = }\\n\")\n",
    "print(f\"{ x = }\\n\")\n",
    "print(f\"{ y = }\\n\")\n",
    "print(f\"{ z = }\")"
   ]
  },
  {
   "cell_type": "markdown",
   "metadata": {},
   "source": [
    "Los tensores pueden contener datos de diferentes tipos, como enteros, flotantes, etc. **Lo importante es que todos los elementos de un tensor deben ser del mismo tipo**. Si no se especifica el tipo de datos, PyTorch inferirá el tipo de datos del tensor.\n",
    "Para saber todos los tipos de datos que se pueden utilizar en PyTorch, puedes consultar la [documentación oficial](https://pytorch.org/docs/stable/tensors.html#data-types)."
   ]
  },
  {
   "cell_type": "code",
   "execution_count": 4,
   "metadata": {},
   "outputs": [
    {
     "name": "stdout",
     "output_type": "stream",
     "text": [
      " x = tensor([1, 2, 3], dtype=torch.uint8)\n",
      " y = tensor([1., 2., 3.])\n",
      " z = tensor([False,  True, False])\n"
     ]
    }
   ],
   "source": [
    "x = torch.tensor([1, 2, 3], dtype=torch.uint8)  # tipo de dato uint8\n",
    "y = torch.tensor([1, 2, 3], dtype=torch.float32)  # tipo de dato float32\n",
    "z = torch.tensor([False, True, False], dtype=torch.bool)  # tipo de dato booleano\n",
    "\n",
    "print(f\"{ x = }\")\n",
    "print(f\"{ y = }\")\n",
    "print(f\"{ z = }\")"
   ]
  },
  {
   "cell_type": "markdown",
   "metadata": {},
   "source": [
    "Podemos ver el tipo de datos de un tensor utilizando el atributo `dtype`."
   ]
  },
  {
   "cell_type": "code",
   "execution_count": 5,
   "metadata": {},
   "outputs": [
    {
     "name": "stdout",
     "output_type": "stream",
     "text": [
      " x.dtype = torch.uint8\n",
      " y.dtype = torch.float32\n",
      " z.dtype = torch.bool\n"
     ]
    }
   ],
   "source": [
    "print(f\"{ x.dtype = }\")\n",
    "print(f\"{ y.dtype = }\")\n",
    "print(f\"{ z.dtype = }\")"
   ]
  },
  {
   "cell_type": "markdown",
   "metadata": {},
   "source": [
    "### Desde tensores existentes\n",
    "\n",
    "Podemos crear un tensor a partir de un tensor existente utilizando el método [torch.clone()](https://pytorch.org/docs/stable/generated/torch.clone.html).\n",
    "\n"
   ]
  },
  {
   "cell_type": "code",
   "execution_count": 6,
   "metadata": {},
   "outputs": [
    {
     "name": "stdout",
     "output_type": "stream",
     "text": [
      " x = tensor([100.,   2.,   3.])\n",
      " y = tensor([100.,   2.,   3.])\n",
      " z = tensor([1., 2., 3.])\n"
     ]
    }
   ],
   "source": [
    "x = torch.tensor([1, 2, 3], dtype=torch.float32)\n",
    "y = x  # y apunta a la misma dirección de memoria que x\n",
    "z = x.clone()  # z apunta a una nueva dirección de memoria\n",
    "\n",
    "y[0] = 100  # cambia el valor de x\n",
    "\n",
    "print(f\"{ x = }\")\n",
    "print(f\"{ y = }\")\n",
    "print(f\"{ z = }\")"
   ]
  },
  {
   "cell_type": "markdown",
   "metadata": {},
   "source": [
    "> Tip: el método `clone()` es diferenciable, lo que significa que los gradientes se pueden propagar a través de él. Utiliza el método `detach()` si no quieres que los gradientes se propaguen."
   ]
  },
  {
   "cell_type": "markdown",
   "metadata": {},
   "source": [
    "### Desde funciones\n",
    "\n",
    "Existen varias funciones en PyTorch que nos permiten crear tensores con valores específicos. Algunas de estas funciones son:\n",
    "\n",
    "- [torch.zeros()](https://pytorch.org/docs/stable/generated/torch.zeros.html): crea un tensor con todos los elementos establecidos en cero.\n",
    "- [torch.ones()](https://pytorch.org/docs/stable/generated/torch.ones.html): crea un tensor con todos los elementos establecidos en uno.\n",
    "- [torch.rand()](https://pytorch.org/docs/stable/generated/torch.rand.html): crea un tensor con valores aleatorios entre 0 y 1.\n",
    "- [torch.randn()](https://pytorch.org/docs/stable/generated/torch.randn.html): crea un tensor con valores aleatorios de una distribución normal.\n",
    "- [torch.arange()](https://pytorch.org/docs/stable/generated/torch.arange.html): crea un tensor con valores espaciados uniformemente dentro de un rango.\n",
    "- [torch.full()](https://pytorch.org/docs/stable/generated/torch.full.html): crea un tensor con todos los elementos establecidos en un valor específico.\n",
    "\n",
    "\n",
    "Muchos de estos métodos reciben como argumento la forma del tensor que queremos crear. Por ejemplo, si queremos crear un tensor de 2x3 con todos los elementos establecidos en cero, podemos hacerlo de la siguiente manera:\n",
    "\n",
    "```python\n",
    "torch.zeros(2, 3)\n",
    "```"
   ]
  },
  {
   "cell_type": "code",
   "execution_count": 7,
   "metadata": {},
   "outputs": [
    {
     "name": "stdout",
     "output_type": "stream",
     "text": [
      " zeros = tensor([[0., 0., 0.],\n",
      "        [0., 0., 0.]])\n",
      " zeros = tensor([[0, 0, 0],\n",
      "        [0, 0, 0]], dtype=torch.uint8)\n"
     ]
    }
   ],
   "source": [
    "zeros = torch.zeros((2, 3))  # tensor de 2x3 con ceros (float32)\n",
    "print(f\"{ zeros = }\")\n",
    "\n",
    "zeros = torch.zeros((2, 3), dtype=torch.uint8)  # tensor de 2x3 con ceros (uint8)\n",
    "print(f\"{ zeros = }\")"
   ]
  },
  {
   "cell_type": "code",
   "execution_count": 8,
   "metadata": {},
   "outputs": [
    {
     "name": "stdout",
     "output_type": "stream",
     "text": [
      " ones = tensor([1., 1., 1., 1., 1.])\n"
     ]
    }
   ],
   "source": [
    "ones = torch.ones(5)  # tensor de 5 elementos con unos\n",
    "print(f\"{ ones = }\")"
   ]
  },
  {
   "cell_type": "code",
   "execution_count": 9,
   "metadata": {},
   "outputs": [
    {
     "name": "stdout",
     "output_type": "stream",
     "text": [
      " rand = tensor([[0.1586, 0.3328, 0.2401, 0.8444],\n",
      "        [0.1799, 0.9938, 0.9009, 0.3294],\n",
      "        [0.7731, 0.8316, 0.5341, 0.5921]])\n",
      " randn = tensor([[-0.6867,  0.5595,  0.9084, -0.1330],\n",
      "        [ 0.7046,  0.3251,  0.2067,  0.6002],\n",
      "        [ 0.6162, -0.9349,  0.2014,  0.3207]])\n"
     ]
    }
   ],
   "source": [
    "rand = torch.rand(3, 4)  # tensor de 3x4 con valores aleatorios entre 0 y 1\n",
    "print(f\"{ rand = }\")\n",
    "\n",
    "randn = torch.randn(\n",
    "    3, 4\n",
    ")  # tensor de 3x4 con valores aleatorios de una distribución normal\n",
    "print(f\"{ randn = }\")"
   ]
  },
  {
   "cell_type": "code",
   "execution_count": 10,
   "metadata": {},
   "outputs": [
    {
     "name": "stdout",
     "output_type": "stream",
     "text": [
      " arrange = tensor([ 0,  5, 10, 15, 20, 25, 30, 35, 40, 45, 50, 55, 60, 65, 70, 75, 80, 85,\n",
      "        90, 95])\n"
     ]
    }
   ],
   "source": [
    "arrange = torch.arange(0, 100, 5)  # tensor con valores de 0 a 10 con paso de 2\n",
    "print(f\"{ arrange = }\")"
   ]
  },
  {
   "cell_type": "code",
   "execution_count": 11,
   "metadata": {},
   "outputs": [
    {
     "name": "stdout",
     "output_type": "stream",
     "text": [
      " full_of_5 = tensor([[5, 5, 5],\n",
      "        [5, 5, 5],\n",
      "        [5, 5, 5]])\n"
     ]
    }
   ],
   "source": [
    "full_of_5 = torch.full((3, 3), 5)  # tensor de 3x3 con todos los elementos en 5\n",
    "print(f\"{ full_of_5 = }\")"
   ]
  },
  {
   "cell_type": "markdown",
   "metadata": {},
   "source": [
    "## Atributos de un tensor\n",
    "\n",
    "Los tensores en PyTorch tienen varios atributos que nos permiten acceder a información sobre el tensor. Algunos de los atributos más comunes son:\n",
    "\n",
    "- [dtype](https://pytorch.org/docs/stable/tensor_attributes.html#torch-dtype): devuelve el tipo de datos del tensor.\n",
    "- [shape](https://pytorch.org/docs/stable/generated/torch.Tensor.shape.html): devuelve la forma/dimensiones del tensor. También podemos utilizar el método [size()](https://pytorch.org/docs/stable/generated/torch.Tensor.size.html) para obtener la forma del tensor.\n",
    "- [ndim](https://pytorch.org/docs/stable/generated/torch.Tensor.ndim.html): devuelve el número de dimensiones del tensor. También podemos utilizar el método [dim()](https://pytorch.org/docs/stable/generated/torch.Tensor.dim.html) para obtener el número de dimensiones del tensor.\n",
    "- [device](https://pytorch.org/docs/stable/generated/torch.Tensor.device.html): devuelve el dispositivo en el que se encuentra el tensor (CPU MPS o GPU).\n",
    "- [requires_grad](https://pytorch.org/docs/stable/generated/torch.Tensor.requires_grad.html): indica si el tensor requiere cálculo de gradientes.\n"
   ]
  },
  {
   "cell_type": "code",
   "execution_count": 12,
   "metadata": {},
   "outputs": [
    {
     "name": "stdout",
     "output_type": "stream",
     "text": [
      " x.shape = torch.Size([3])\n",
      " x.size() = torch.Size([3])\n",
      "\n",
      " y.size() = torch.Size([2, 3])\n",
      " y.size(0) = 2\n",
      " y.size(1) = 3\n"
     ]
    }
   ],
   "source": [
    "x = torch.tensor([1, 2, 3])\n",
    "y = torch.tensor([[1, 2, 3], [4, 5, 6]])\n",
    "\n",
    "print(f\"{ x.shape = }\")\n",
    "print(f\"{ x.size() = }\\n\")\n",
    "\n",
    "print(\n",
    "    f\"{ y.size() = }\"\n",
    ")  # si no se pone argumento, devuelve una tupla con las dimensiones\n",
    "print(f\"{ y.size(0) = }\")  # devuelve el tamaño de la primera dimensión\n",
    "print(f\"{ y.size(1) = }\")  # devuelve el tamaño de la segunda dimensión"
   ]
  },
  {
   "cell_type": "code",
   "execution_count": 13,
   "metadata": {},
   "outputs": [
    {
     "name": "stdout",
     "output_type": "stream",
     "text": [
      " x.ndim = 1\n",
      " x.dim() = 1\n",
      "\n",
      " y.ndim = 2\n",
      " y.dim() = 2\n"
     ]
    }
   ],
   "source": [
    "x = torch.tensor([1, 2, 3])\n",
    "y = torch.tensor([[1, 2, 3], [4, 5, 6]])\n",
    "\n",
    "print(f\"{ x.ndim = }\")\n",
    "print(f\"{ x.dim() = }\\n\")\n",
    "\n",
    "print(f\"{ y.ndim = }\")\n",
    "print(f\"{ y.dim() = }\")"
   ]
  },
  {
   "cell_type": "code",
   "execution_count": 14,
   "metadata": {},
   "outputs": [
    {
     "name": "stdout",
     "output_type": "stream",
     "text": [
      "x.device = device(type='cpu')\n",
      "x movido a la GPU\n",
      "x.device = device(type='cuda', index=0)\n"
     ]
    }
   ],
   "source": [
    "x = torch.tensor([1, 2, 3])\n",
    "\n",
    "print(f\"{x.device = }\")  # cpu es el dispositivo por defecto\n",
    "\n",
    "if torch.cuda.is_available():  # si hay una GPU disponible (y cuda está instalado)\n",
    "    x = x.to(\"cuda\")  # movemos el tensor a la GPU\n",
    "    print(\"x movido a la GPU\")\n",
    "    print(f\"{x.device = }\")\n",
    "\n",
    "if (\n",
    "    torch.backends.mps.is_available()\n",
    "):  # si hay un MPS disponible (https://pytorch.org/docs/stable/mps.html)\n",
    "    x = x.to(\"mps\")\n",
    "    print(\"x movido a MPS\")\n",
    "    print(f\"{x.device = }\")"
   ]
  },
  {
   "cell_type": "markdown",
   "metadata": {},
   "source": [
    "Otra forma es crear el tensor directamente en el dispositivo que queremos utilizando el argumento `device`. Por ejemplo, si queremos crear un tensor en la GPU, podemos hacerlo de la siguiente manera:\n",
    "\n",
    "```python\n",
    "torch.zeros(2, 3, device='cuda')\n",
    "```\n",
    "\n",
    "Es importante verificar que el dispositivo esté disponible antes de crear un tensor en él."
   ]
  },
  {
   "cell_type": "markdown",
   "metadata": {},
   "source": [
    "## Funciones de reducción y agregación\n",
    "\n",
    "PyTorch proporciona varias funciones de reducción que nos permiten reducir un tensor a un solo valor. Algunas de las funciones de reducción más comunes son:\n",
    "\n",
    "- [torch.sum()](https://pytorch.org/docs/stable/generated/torch.sum.html): calcula la suma de todos los elementos de un tensor.\n",
    "- [torch.mean()](https://pytorch.org/docs/stable/generated/torch.mean.html): calcula la media de todos los elementos de un tensor.\n",
    "- [torch.max()](https://pytorch.org/docs/stable/generated/torch.max.html): calcula el valor máximo de un tensor.\n",
    "- [torch.min()](https://pytorch.org/docs/stable/generated/torch.min.html): calcula el valor mínimo de un tensor.\n",
    "- [torch.argmax()](https://pytorch.org/docs/stable/generated/torch.argmax.html): devuelve el índice del valor máximo de un tensor.\n",
    "- [torch.argmin()](https://pytorch.org/docs/stable/generated/torch.argmin.html): devuelve el índice del valor mínimo de un tensor.\n",
    "\n",
    "Estas funciones también aceptan un argumento `dim` que nos permite especificar la dimensión a lo largo de la cual queremos realizar la reducción."
   ]
  },
  {
   "cell_type": "code",
   "execution_count": 15,
   "metadata": {},
   "outputs": [
    {
     "name": "stdout",
     "output_type": "stream",
     "text": [
      "torch.sum(x) = tensor(45.)\n",
      "torch.sum(x, dim=0) = tensor([12., 15., 18.])\n",
      "torch.sum(x, dim=1) = tensor([ 6., 15., 24.])\n",
      "\n",
      "torch.mean(x) = tensor(5.)\n",
      "torch.mean(x, dim=0) = tensor([4., 5., 6.])\n",
      "torch.mean(x, dim=1) = tensor([2., 5., 8.])\n",
      "\n",
      "torch.max(x) = tensor(9.)\n",
      "torch.max(x, dim=0) = torch.return_types.max(\n",
      "values=tensor([7., 8., 9.]),\n",
      "indices=tensor([2, 2, 2]))\n",
      "torch.max(x, dim=1) = torch.return_types.max(\n",
      "values=tensor([3., 6., 9.]),\n",
      "indices=tensor([2, 2, 2]))\n",
      "\n",
      "torch.min(x) = tensor(1.)\n",
      "torch.min(x, dim=0) = torch.return_types.min(\n",
      "values=tensor([1., 2., 3.]),\n",
      "indices=tensor([0, 0, 0]))\n",
      "torch.min(x, dim=1) = torch.return_types.min(\n",
      "values=tensor([1., 4., 7.]),\n",
      "indices=tensor([0, 0, 0]))\n",
      "\n",
      "torch.argmax(x) = tensor(8)\n",
      "torch.argmax(x, dim=0) = tensor([2, 2, 2])\n",
      "torch.argmax(x, dim=1) = tensor([2, 2, 2])\n",
      "\n"
     ]
    }
   ],
   "source": [
    "x = torch.tensor([[1, 2, 3], [4, 5, 6], [7, 8, 9]], dtype=torch.float32)\n",
    "\n",
    "print(f\"{torch.sum(x) = }\")  # suma de todos los elementos\n",
    "print(f\"{torch.sum(x, dim=0) = }\")  # suma de cada columna\n",
    "print(f\"{torch.sum(x, dim=1) = }\\n\")  # suma de cada fila\n",
    "\n",
    "print(f\"{torch.mean(x) = }\")  # media de todos los elementos\n",
    "print(f\"{torch.mean(x, dim=0) = }\")  # media de cada columna\n",
    "print(f\"{torch.mean(x, dim=1) = }\\n\")  # media de cada fila\n",
    "\n",
    "print(f\"{torch.max(x) = }\")  # máximo de todos los elementos\n",
    "print(f\"{torch.max(x, dim=0) = }\")  # máximo de cada columna\n",
    "print(f\"{torch.max(x, dim=1) = }\\n\")  # máximo de cada fila\n",
    "\n",
    "print(f\"{torch.min(x) = }\")  # mínimo de todos los elementos\n",
    "print(f\"{torch.min(x, dim=0) = }\")  # mínimo de cada columna\n",
    "print(f\"{torch.min(x, dim=1) = }\\n\")  # mínimo de cada fila\n",
    "\n",
    "print(\n",
    "    f\"{torch.argmax(x) = }\"\n",
    ")  # índice del máximo de todos los elementos, como es una matriz, devuelve el índice en el array plano\n",
    "print(f\"{torch.argmax(x, dim=0) = }\")  # índice del máximo de cada columna\n",
    "print(f\"{torch.argmax(x, dim=1) = }\\n\")  # índice del máximo de cada fila"
   ]
  },
  {
   "cell_type": "markdown",
   "metadata": {},
   "source": [
    "## Combinación y división\n",
    "\n",
    "PyTorch proporciona varias funciones que nos permiten combinar y dividir tensores. Algunas de las funciones más comunes son:\n",
    "\n",
    "- [torch.cat()](https://pytorch.org/docs/stable/generated/torch.cat.html): combina varios tensores a lo largo de una dimensión específica.\n",
    "- [torch.stack()](https://pytorch.org/docs/stable/generated/torch.stack.html): apila varios tensores a lo largo de una nueva dimensión.\n",
    "- [torch.split()](https://pytorch.org/docs/stable/generated/torch.split.html): divide un tensor en varias partes a lo largo de una dimensión específica.\n",
    "- [torch.chunk()](https://pytorch.org/docs/stable/generated/torch.chunk.html): divide un tensor en varias partes a lo largo de una dimensión específica.\n",
    "- [torch.squeeze()](https://pytorch.org/docs/stable/generated/torch.squeeze.html): elimina dimensiones de tamaño 1 de un tensor.\n",
    "- [torch.unsqueeze()](https://pytorch.org/docs/stable/generated/torch.unsqueeze.html): agrega una dimensión de tamaño 1 a un tensor.\n",
    "- [torch.reshape()](https://pytorch.org/docs/stable/generated/torch.reshape.html): cambia la forma de un tensor.\n",
    "\n",
    "Existen muchas más funciones que nos permiten combinar y dividir tensores en PyTorch. Puedes consultar la [documentación oficial](https://pytorch.org/docs/stable/torch.html) para obtener más información sobre estas funciones."
   ]
  },
  {
   "cell_type": "code",
   "execution_count": 16,
   "metadata": {},
   "outputs": [
    {
     "name": "stdout",
     "output_type": "stream",
     "text": [
      "torch.cat((x, y)) = tensor([1, 2, 3, 4, 5, 6, 5, 4, 3, 2, 1, 0])\n",
      "\n",
      "torch.stack((x, y)) = tensor([[1, 2, 3, 4, 5, 6],\n",
      "        [5, 4, 3, 2, 1, 0]])\n",
      "\n",
      "torch.split(x, 2) = (tensor([1, 2]), tensor([3, 4]), tensor([5, 6]))\n",
      "\n",
      "torch.chunk(x, 2) = (tensor([1, 2, 3]), tensor([4, 5, 6]))\n",
      "\n",
      "torch.squeeze(torch.zeros(1, 2, 1, 2)) = tensor([[0., 0.],\n",
      "        [0., 0.]])\n",
      "\n",
      "torch.unsqueeze(torch.zeros(2, 2), 0) = tensor([[[0., 0.],\n",
      "         [0., 0.]]])\n"
     ]
    }
   ],
   "source": [
    "x = torch.tensor([1, 2, 3, 4, 5, 6])\n",
    "y = torch.tensor([5, 4, 3, 2, 1, 0])\n",
    "\n",
    "print(f\"{torch.cat((x, y)) = }\\n\")  # concatenación de tensores\n",
    "print(f\"{torch.stack((x, y)) = }\\n\")  # apilamiento de tensores\n",
    "print(f\"{torch.split(x, 2) = }\\n\")  # división de un tensor en partes de tamaño 2\n",
    "print(f\"{torch.chunk(x, 2) = }\\n\")  # división de un tensor en 2 partes\n",
    "\n",
    "print(\n",
    "    f\"{torch.squeeze(torch.zeros(1, 2, 1, 2)) = }\\n\"\n",
    ")  # elimina las dimensiones de tamaño 1\n",
    "print(f\"{torch.unsqueeze(torch.zeros(2, 2), 0) = }\")  # añade una dimensión al principio"
   ]
  },
  {
   "cell_type": "code",
   "execution_count": 17,
   "metadata": {},
   "outputs": [
    {
     "name": "stdout",
     "output_type": "stream",
     "text": [
      "torch.reshape(x, (3, 3)) = tensor([[0, 1, 2],\n",
      "        [3, 4, 5],\n",
      "        [6, 7, 8]])\n",
      "\n",
      "torch.reshape(x, (3, -1)) = tensor([[0, 1, 2],\n",
      "        [3, 4, 5],\n",
      "        [6, 7, 8]])\n",
      "\n",
      "torch.reshape(x, (-1, 3)) = tensor([[0, 1, 2],\n",
      "        [3, 4, 5],\n",
      "        [6, 7, 8]])\n",
      "\n",
      "torch.reshape(x, (2, 3)) = tensor([[1, 2, 3],\n",
      "        [4, 5, 6]])\n",
      "\n",
      "torch.reshape(x, (3, 2)) = tensor([[1, 2],\n",
      "        [3, 4],\n",
      "        [5, 6]])\n",
      "\n",
      "torch.reshape(x, (6, -1)) = tensor([[1],\n",
      "        [2],\n",
      "        [3],\n",
      "        [4],\n",
      "        [5],\n",
      "        [6]])\n",
      "\n"
     ]
    }
   ],
   "source": [
    "x = torch.arange(9)\n",
    "print(f\"{torch.reshape(x, (3, 3)) = }\\n\")  # reorganiza los elementos en una matriz 3x3\n",
    "print(\n",
    "    f\"{torch.reshape(x, (3, -1)) = }\\n\"\n",
    ")  # -1 significa que se infiere el tamaño de esa dimensión\n",
    "print(f\"{torch.reshape(x, (-1, 3)) = }\\n\")\n",
    "\n",
    "x = torch.tensor([1, 2, 3, 4, 5, 6])\n",
    "print(f\"{torch.reshape(x, (2, 3)) = }\\n\")  # reorganiza los elementos en una matriz 2x3\n",
    "print(f\"{torch.reshape(x, (3, 2)) = }\\n\")  # reorganiza los elementos en una matriz 3x2\n",
    "print(f\"{torch.reshape(x, (6, -1)) = }\\n\")  # reorganiza los elementos en una matriz 6x1"
   ]
  },
  {
   "cell_type": "markdown",
   "metadata": {},
   "source": [
    "## Cálculo de gradientes\n",
    "\n",
    "PyTorch proporciona una forma sencilla de calcular gradientes utilizando el módulo [torch.autograd](https://pytorch.org/docs/stable/autograd.html). Este módulo nos permite calcular gradientes automáticamente utilizando el método de retropropagación. Para ello, debemos establecer el atributo `requires_grad` en `True` al crear un tensor. Esto indica que queremos calcular los gradientes para este tensor."
   ]
  },
  {
   "cell_type": "code",
   "execution_count": 18,
   "metadata": {},
   "outputs": [
    {
     "name": "stdout",
     "output_type": "stream",
     "text": [
      "x = tensor([2., 3.], requires_grad=True)\n",
      "y = tensor(6., grad_fn=<MulBackward0>)\n",
      "x.grad = tensor([3., 2.])\n"
     ]
    }
   ],
   "source": [
    "# 1) Creamos un tensor con dos valores y activamos el cálculo de gradientes\n",
    "x = torch.tensor([2.0, 3.0], requires_grad=True)\n",
    "print(f\"{x = }\")\n",
    "\n",
    "# 2) Definimos una función simple:\n",
    "#    y = x1 * x2\n",
    "y = x[0] * x[1]\n",
    "print(f\"{y = }\")\n",
    "\n",
    "# 3) Calculamos gradientes: esto rellena x.grad con dy/dx\n",
    "y.backward()\n",
    "print(f\"{x.grad = }\")\n"
   ]
  },
  {
   "cell_type": "markdown",
   "metadata": {},
   "source": [
    "El gradiente $\\nabla_x y$ es un vector que nos dice **cuánto cambia $y$** si cambiamos un poquito **cada componente** de $x$.  \n",
    "\n",
    "- $\\frac{\\partial y}{\\partial x_1} = x_2$.\n",
    "- $\\frac{\\partial y}{\\partial x_2} = x_1$.\n",
    "\n",
    "Por eso PyTorch nos devuelve `x.grad = [3., 2.]`.\n",
    "\n",
    "- Si aumento **solo** $x_1$ en una pequeña cantidad $\\delta$, el producto $y$ aumentará aproximadamente $x_2 \\times \\delta$.  \n",
    "  Aquí $x_2=3$, así que el “efecto” de subir $x_1$ es multiplicado por 3.  \n",
    "- De forma análoga, subir $x_2$ hace que $y$ cambie en aproximadamente $x_1 \\times \\delta$."
   ]
  },
  {
   "cell_type": "markdown",
   "metadata": {
    "colab_type": "text",
    "id": "Hur5OGlgj-Ct"
   },
   "source": [
    "## CPU/GPU/MPS\n",
    "\n",
    "PyTorch es compatible con varios dispositivos, como CPU, GPU y MPS (Metal Performance Shaders). Podemos mover tensores entre dispositivos utilizando el método [to()](https://pytorch.org/docs/stable/generated/torch.Tensor.to.html). También podemos utilizar el método [cuda()](https://pytorch.org/docs/stable/generated/torch.Tensor.cuda.html) para mover un tensor a la GPU y el método [cpu()](https://pytorch.org/docs/stable/generated/torch.Tensor.cpu.html) para mover un tensor a la CPU."
   ]
  },
  {
   "cell_type": "code",
   "execution_count": 19,
   "metadata": {
    "colab": {
     "base_uri": "https://localhost:8080/",
     "height": 34
    },
    "colab_type": "code",
    "id": "dpnJwoJPjiOE",
    "outputId": "e21f35b0-4b0b-43ef-80e4-c842418cb66f"
   },
   "outputs": [
    {
     "name": "stdout",
     "output_type": "stream",
     "text": [
      "Device: cuda\n"
     ]
    }
   ],
   "source": [
    "# definimos el dispositivo que vamos a usar\n",
    "DEVICE = \"cpu\"  # por defecto, usamos la CPU\n",
    "if torch.cuda.is_available():\n",
    "    DEVICE = \"cuda\"  # si hay GPU, usamos la GPU\n",
    "elif torch.backends.mps.is_available():\n",
    "    DEVICE = \"mps\"  # si no hay GPU, pero hay MPS, usamos MPS\n",
    "\n",
    "print(f\"Device: {DEVICE}\")"
   ]
  },
  {
   "cell_type": "code",
   "execution_count": 20,
   "metadata": {
    "colab": {},
    "colab_type": "code",
    "id": "EbvuXJQAosTl"
   },
   "outputs": [
    {
     "name": "stdout",
     "output_type": "stream",
     "text": [
      "CPU time:\n",
      "28.4 ms ± 769 μs per loop (mean ± std. dev. of 7 runs, 10 loops each)\n",
      " \n",
      "GPU time:\n",
      "The slowest run took 7.05 times longer than the fastest. This could mean that an intermediate result is being cached.\n",
      "42.5 μs ± 41.2 μs per loop (mean ± std. dev. of 7 runs, 1 loop each)\n"
     ]
    }
   ],
   "source": [
    "if torch.cpu.is_available():\n",
    "    x = torch.rand(2, 900000).cpu()            # Initialize with random number (uniform distribution)\n",
    "    y = torch.randn(900000,200).cpu()           # With normal distribution (SD=1, mean=0)\n",
    "    z = torch.randperm(200).cpu()           # Size 200. Random permutation of integers from 0 to 200\n",
    "\n",
    "    print('CPU time:')\n",
    "    %timeit torch.mm(x,y)+z\n",
    "\n",
    "if torch.cuda.is_available():\n",
    "    x = torch.rand(2, 900000).cuda()            \n",
    "    y = torch.randn(900000,200).cuda()          \n",
    "    z = torch.randperm(200).cuda()\n",
    "\n",
    "    print(' ')\n",
    "    print('GPU time:')\n",
    "    %timeit torch.mm(x,y)+z\n",
    "    \n",
    "if torch.backends.mps.is_available():\n",
    "    x = torch.rand(2, 900000).mps()            \n",
    "    y = torch.randn(900000,200).mps()          \n",
    "    z = torch.randperm(200).mps()\n",
    "\n",
    "    print(' ')\n",
    "    print('MPS time:')\n",
    "    %timeit torch.mm(x,y)+z"
   ]
  },
  {
   "cell_type": "markdown",
   "metadata": {
    "colab_type": "text",
    "id": "Nl8qO_Sf2WZ1"
   },
   "source": [
    "# FeedForward networks\n",
    "\n",
    "Son la unidad más simple de red neuronal, con su origen en el perceptron de muchas capas. La idea es crear una secuencia lineal de neuronas (capa) que reciben nuestro input. \n",
    "\n",
    "![Image](https://upload.wikimedia.org/wikipedia/commons/c/c2/MultiLayerNeuralNetworkBigger_english.png)\n",
    "\n",
    "De esta manera la primera capa de neuronas (input layer) recibe los datos y las capas subsiguientes reciben el resultados de capas anteriores. La última capa (output layer) es la encargada de generar una predicción a partir de nuestros inputs.\n",
    "\n",
    "***\n",
    "\n",
    "En este notebook vamos a usar un dataset muy simple y conocido de imágenes, Fashion-MNIST. Se trata de un dataset de ropa y calzado, la idea es usar redes neuronales para clasificar cada una de las imágenes el tipo de ropa que representa. \n",
    "\n",
    "Para trabajar con imagenes vamos a hacer uso de una librería complementaria a Pytorch: **torchvision** (https://pytorch.org/docs/stable/torchvision/index.html) que incluye varios datasets precargados, modelos preentrenados y algunas utilidades para trabajar con imágenes que nos van a resultar útiles.\n",
    "\n",
    "*** \n",
    "\n",
    "En la celda de abajo vamos a carga nuestro dataset y mostrar algunas imagenes de ejemplo.\n"
   ]
  },
  {
   "cell_type": "code",
   "execution_count": 21,
   "metadata": {
    "colab": {
     "base_uri": "https://localhost:8080/",
     "height": 333
    },
    "colab_type": "code",
    "id": "JpVIgjO52Uou",
    "outputId": "1efde127-8277-401d-af9d-d7bfb3129a96"
   },
   "outputs": [
    {
     "name": "stdout",
     "output_type": "stream",
     "text": [
      "Downloading http://fashion-mnist.s3-website.eu-central-1.amazonaws.com/train-images-idx3-ubyte.gz\n",
      "Downloading http://fashion-mnist.s3-website.eu-central-1.amazonaws.com/train-images-idx3-ubyte.gz to ./data\\FashionMNIST\\raw\\train-images-idx3-ubyte.gz\n"
     ]
    },
    {
     "name": "stderr",
     "output_type": "stream",
     "text": [
      "100%|██████████| 26.4M/26.4M [00:03<00:00, 7.32MB/s]\n"
     ]
    },
    {
     "name": "stdout",
     "output_type": "stream",
     "text": [
      "Extracting ./data\\FashionMNIST\\raw\\train-images-idx3-ubyte.gz to ./data\\FashionMNIST\\raw\n",
      "\n",
      "Downloading http://fashion-mnist.s3-website.eu-central-1.amazonaws.com/train-labels-idx1-ubyte.gz\n",
      "Downloading http://fashion-mnist.s3-website.eu-central-1.amazonaws.com/train-labels-idx1-ubyte.gz to ./data\\FashionMNIST\\raw\\train-labels-idx1-ubyte.gz\n"
     ]
    },
    {
     "name": "stderr",
     "output_type": "stream",
     "text": [
      "100%|██████████| 29.5k/29.5k [00:00<00:00, 123kB/s]\n"
     ]
    },
    {
     "name": "stdout",
     "output_type": "stream",
     "text": [
      "Extracting ./data\\FashionMNIST\\raw\\train-labels-idx1-ubyte.gz to ./data\\FashionMNIST\\raw\n",
      "\n",
      "Downloading http://fashion-mnist.s3-website.eu-central-1.amazonaws.com/t10k-images-idx3-ubyte.gz\n",
      "Downloading http://fashion-mnist.s3-website.eu-central-1.amazonaws.com/t10k-images-idx3-ubyte.gz to ./data\\FashionMNIST\\raw\\t10k-images-idx3-ubyte.gz\n"
     ]
    },
    {
     "name": "stderr",
     "output_type": "stream",
     "text": [
      "100%|██████████| 4.42M/4.42M [00:01<00:00, 2.29MB/s]\n"
     ]
    },
    {
     "name": "stdout",
     "output_type": "stream",
     "text": [
      "Extracting ./data\\FashionMNIST\\raw\\t10k-images-idx3-ubyte.gz to ./data\\FashionMNIST\\raw\n",
      "\n",
      "Downloading http://fashion-mnist.s3-website.eu-central-1.amazonaws.com/t10k-labels-idx1-ubyte.gz\n",
      "Downloading http://fashion-mnist.s3-website.eu-central-1.amazonaws.com/t10k-labels-idx1-ubyte.gz to ./data\\FashionMNIST\\raw\\t10k-labels-idx1-ubyte.gz\n"
     ]
    },
    {
     "name": "stderr",
     "output_type": "stream",
     "text": [
      "100%|██████████| 5.15k/5.15k [00:00<?, ?B/s]"
     ]
    },
    {
     "name": "stdout",
     "output_type": "stream",
     "text": [
      "Extracting ./data\\FashionMNIST\\raw\\t10k-labels-idx1-ubyte.gz to ./data\\FashionMNIST\\raw\n",
      "\n",
      "Tamaño del dataset 60000 imagenes.\n",
      "Clases posibles: ['T-shirt/top', 'Trouser', 'Pullover', 'Dress', 'Coat', 'Sandal', 'Shirt', 'Sneaker', 'Bag', 'Ankle boot']\n",
      "Objeto imagen: <PIL.Image.Image image mode=L size=28x28 at 0x2460CD73990> - Clase 9\n",
      "Detalles de la imagen (28, 28) pixeles\n"
     ]
    },
    {
     "name": "stderr",
     "output_type": "stream",
     "text": [
      "\n"
     ]
    },
    {
     "data": {
      "image/png": "[encoded data removed]",
      "text/plain": [
       "<Figure size 640x480 with 1 Axes>"
      ]
     },
     "metadata": {},
     "output_type": "display_data"
    }
   ],
   "source": [
    "MNIST_PATH = \"./data\"  # ruta donde se guardan los datos\n",
    "\n",
    "mnist_dataset = dsets.FashionMNIST(MNIST_PATH, download=True)\n",
    "\n",
    "print(f\"Tamaño del dataset {len(mnist_dataset)} imagenes.\")\n",
    "print(f\"Clases posibles: {mnist_dataset.classes}\")\n",
    "\n",
    "data_idx = 0  # Indice (0-59999) de la imagen que queremos ver\n",
    "image, label = mnist_dataset[0] \n",
    "\n",
    "print(f\"Objeto imagen: {image} - Clase {label}\")\n",
    "print(f\"Detalles de la imagen {image.size} pixeles\")\n",
    "\n",
    "plt.imshow(image, cmap='gray')\n",
    "plt.show()"
   ]
  },
  {
   "cell_type": "markdown",
   "metadata": {
    "colab_type": "text",
    "id": "peWiTvQq2Uua"
   },
   "source": [
    "### Clasificador\n",
    "\n",
    "Ahora que tenemos una idea de como es nuestro dataset, vamos a crear un modelo FeedForward para predecir la clase de la imagen que usemos como input. \n",
    "\n",
    "Antes que nada, vamos a necesitar dividir el dataset total en conjuntos de **entrenamiento**, **validacion** y **test**. Vamos a usar un ratio de 80 y 20% respectivamente. El set de test se puede descargar por separado con torchvision. Además, vamos a necesitar una manera de cargar **batches** de datos a la vez, para entrenar nuestra red. Pytorch nos proporciona varias ayudas para esto.\n",
    "\n",
    "***\n",
    "\n",
    "Finalmente, queda aclarar el uso de **tranformaciones** sobre las imágenes. Por lo pronto, tenemos objetos de tipo PIL Image, necesitamos (al menos) convertirlos en Tensores, para que Pytorch los pueda manejar.\n",
    "\n",
    "Hay un numero inmenso de transformaciones posibles que podemos usar en nustras imagenes, en este caso basta con tranformarlas a tensores, pero dejamos este link para otros casos: https://pytorch.org/docs/stable/torchvision/transforms.html\n"
   ]
  },
  {
   "cell_type": "code",
   "execution_count": 22,
   "metadata": {},
   "outputs": [],
   "source": [
    "#Esto nos permite cambiarle la forma a un tensor aplicandole una transformacion. \n",
    "\n",
    "class ReshapeTransform:\n",
    "    def __init__(self, new_size):\n",
    "        self.new_size = new_size\n",
    "\n",
    "    def __call__(self, img):\n",
    "        return torch.reshape(img, self.new_size)"
   ]
  },
  {
   "cell_type": "code",
   "execution_count": 23,
   "metadata": {
    "colab": {},
    "colab_type": "code",
    "id": "PVBOfbYX2UzC"
   },
   "outputs": [],
   "source": [
    "img_transforms = transforms.Compose([transforms.ToTensor(), ReshapeTransform((-1,))])\n",
    "\n",
    "# Descargamos los datasets\n",
    "mnist_train_dataset = dsets.FashionMNIST(MNIST_PATH, download=True, train=True, transform=img_transforms)\n",
    "\n",
    "# Separamos el train set en train y validation\n",
    "train_size = int(0.8 * len(mnist_train_dataset))\n",
    "val_size = len(mnist_train_dataset) - train_size\n",
    "train_set, val_set = torch.utils.data.random_split(mnist_train_dataset, [train_size, val_size])\n",
    "\n",
    "mnist_test_dataset = dsets.FashionMNIST(MNIST_PATH, download=True, train=False, transform=img_transforms)\n",
    "\n",
    "# Creamos objetos DataLoader (https://pytorch.org/docs/stable/data.html) que nos va a permitir crear batches de data automaticamente.\n",
    "\n",
    "# Cuantas imagenes obtener en cada iteracion!\n",
    "BATCH_SIZE = 64\n",
    "NUM_WORKERS = 1\n",
    "\n",
    "# Creamos los loaders\n",
    "train_loader = torch.utils.data.DataLoader(train_set, batch_size=BATCH_SIZE, shuffle=True, num_workers=NUM_WORKERS)\n",
    "val_loader = torch.utils.data.DataLoader(val_set, batch_size=BATCH_SIZE, shuffle=False, num_workers=NUM_WORKERS)\n",
    "\n",
    "test_loader = torch.utils.data.DataLoader(mnist_test_dataset, batch_size=BATCH_SIZE, shuffle=False, num_workers=NUM_WORKERS)"
   ]
  },
  {
   "cell_type": "markdown",
   "metadata": {
    "colab_type": "text",
    "id": "EKgtfpeArQPd"
   },
   "source": [
    "### Modelo\n",
    "\n",
    "Vamos a considerar cada imagen como un tensor de una sola dimensión, de largo 28*28 = 784. Cada uno de esos valores representa el valor de un pixel de nuestra imagen original.\n",
    "\n",
    "Nuestra red va a recibir ese tensor como input (en realidad, un batch de tensores de largo 784) que va a ser trabajado por varias capas ocultas con diferente número de neuronas hasta llegar a una capa de salida con 10 outputs, 1 por cada clase posible.\n",
    "\n",
    "***\n",
    "\n",
    "Vamos utilizar capas conectadas totalmente, tambien conocidas como Fully Connected, Dense, o Linear en Pytorch (https://pytorch.org/docs/stable/nn.html). Para crearlas necesitamos especificar las dimensiones del tensor de entrada, y el de salida; luego internamente Pytorch genera la matriz de pesos por los cuales multiplicar la entrada para generar la salida. Luego de cada una de estas operaciones necesitamos usar una funcion de activacion no linear, en este caso, vamos a usar ReLU: https://pytorch.org/docs/stable/nn.html#relu. \n",
    "\n",
    "***\n",
    "\n",
    "Para implementar un modelo **cualquiera** alcanza con definir un metodo **init** donde especificamos la arquitectura del mismo, y un método **forward** donde especificamos cómo interactúan nuestras capas frente a un nuevo input.\n",
    "\n",
    "***\n",
    "\n"
   ]
  },
  {
   "cell_type": "code",
   "execution_count": 24,
   "metadata": {
    "colab": {
     "base_uri": "https://localhost:8080/",
     "height": 102
    },
    "colab_type": "code",
    "id": "h-SZey-Qqj1P",
    "outputId": "c3466114-d313-4b5c-c589-e6027ac4fe6d"
   },
   "outputs": [],
   "source": [
    "# Definicion del modelo que vamos a usar. En Pytorch los modelos se definen como clases, que heredan de nn.Module\n",
    "\n",
    "class FeedForwardModel(nn.Module):\n",
    "\n",
    "    def __init__(self, number_classes=10):\n",
    "        super(FeedForwardModel, self).__init__()\n",
    "        self.linear1 = nn.Linear(in_features=784, out_features=128)\n",
    "        self.linear2 = nn.Linear(in_features=128, out_features=64)\n",
    "        self.output = nn.Linear(in_features=64, out_features=number_classes)\n",
    "  \n",
    "    def forward(self, x):\n",
    "        x = x.view(x.size(0), -1)  # aplana la imagen\n",
    "        x = F.relu(self.linear1(x))\n",
    "        x = F.relu(self.linear2(x))\n",
    "        logits = self.output(x)\n",
    "\n",
    "        return logits\n",
    "\n",
    "\n",
    "model = FeedForwardModel(number_classes=10)"
   ]
  },
  {
   "cell_type": "markdown",
   "metadata": {
    "colab_type": "text",
    "id": "sYv_kROa0o54"
   },
   "source": [
    "### Entrenando el modelo\n",
    "\n",
    "Para entrenar un modelo necesitamos una funcion de costo o pérdida (normalmente referida como loss function: https://pytorch.org/docs/stable/nn.html#loss-functions). En este curso no nos vamos a meter en mucho detalle sobre las funciones de costo, para este ejercicio y el siguiente vamos a usar la CrossEntropyLoss, y cuando necesiten otra la vamos a especificar.\n",
    "\n",
    "El objetivo de esta funcion es darnos un valor de que tan malas fueron las predicciones del modelo respecto a los valores de verdad. Haciendo uso de backpropagation y del gradiente de esta funcion podemos optimizar los pesos de nuestra red tal que \"aprenda\" a hacer mejores predicciones. De nuevo, la lógica detras de toda esta optimización no nos compete en este curso y lo dejamos para la disciplina de Deep Learning.\n",
    "\n",
    "***\n",
    "Como mencionamos arriba, el costo de computa usando las predicciones del modelo y las etiquetas verdaderas de nuestros datos y, el trabajo de actualizar los pesos usando los gradientes lo realiza un optimizador de Pytorch: https://pytorch.org/docs/stable/optim.html."
   ]
  },
  {
   "cell_type": "code",
   "execution_count": 25,
   "metadata": {
    "colab": {},
    "colab_type": "code",
    "id": "kYtCjd9cqj3x"
   },
   "outputs": [],
   "source": [
    "LEARNING_RATE = 0.001\n",
    "\n",
    "ff_model = FeedForwardModel(number_classes=10).to(DEVICE)\n",
    "criterion = nn.CrossEntropyLoss().to(DEVICE)\n",
    "ff_optimizer = optim.SGD(ff_model.parameters(), lr=LEARNING_RATE)"
   ]
  },
  {
   "cell_type": "code",
   "execution_count": 26,
   "metadata": {
    "colab": {
     "base_uri": "https://localhost:8080/",
     "height": 544
    },
    "colab_type": "code",
    "id": "zBEV-LNsqj6o",
    "outputId": "7965009c-f8c9-420c-c3b0-0a290420156b",
    "scrolled": true
   },
   "outputs": [],
   "source": [
    "def train_model(model, train_loader, val_loader, loss_func, optimizer, epochs):\n",
    "    for _ in range(epochs):  # Iteramos sobre el dataset entero muchas veces\n",
    "        for images, labels in train_loader:\n",
    "            images = images.to(DEVICE)\n",
    "            labels = labels.to(DEVICE)\n",
    "\n",
    "            # Reseteamos los gradientes de los pesos del modelo.\n",
    "            optimizer.zero_grad()   \n",
    "\n",
    "            # Obtenemos las predicciones para las nuevas imagenes llamando a nuestro modelo.\n",
    "            predictions = model(images)    \n",
    "\n",
    "            # Calulamos el costo de nuestras predicciones respecto a la verdad\n",
    "            loss = loss_func(predictions, labels)\n",
    "\n",
    "            # Computamos los gradientes con backward y actualizamos los pesos con un optimizer.step()\n",
    "            loss.backward()\n",
    "            optimizer.step()\n",
    "\n",
    "\n",
    "        # Luego de cada epoch de entrenamiento vemos la performance (accuracy) en el set de validacion\n",
    "        with torch.no_grad():\n",
    "            correct_predictions = 0.0\n",
    "\n",
    "            for images, labels in val_loader:\n",
    "                images = images.to(DEVICE)\n",
    "                labels = labels.to(DEVICE)\n",
    "\n",
    "                predictions = model(images)\n",
    "                predictions = torch.argmax(predictions, dim=1)\n",
    "\n",
    "                correct_predictions += (predictions == labels).detach().cpu().float().sum().item()\n",
    "\n",
    "        print(f\"Validation accuracy {(100 * correct_predictions / len(val_loader.dataset)):.2f} %\")"
   ]
  },
  {
   "cell_type": "code",
   "execution_count": 27,
   "metadata": {
    "colab": {
     "base_uri": "https://localhost:8080/",
     "height": 34
    },
    "colab_type": "code",
    "id": "leKy45f4N0q8",
    "outputId": "24580975-aa42-4f23-9f2c-3f76e9a25075"
   },
   "outputs": [],
   "source": [
    "def test_model(model, test_loader):\n",
    "    # Finalmente Reportamos la performance en el test set:\n",
    "    with torch.no_grad():\n",
    "        correct_predictions = 0.0\n",
    "\n",
    "        for i, data in enumerate(test_loader):\n",
    "            images, labels = data\n",
    "            images = images.to(DEVICE)\n",
    "            labels = labels.to(DEVICE)\n",
    "\n",
    "            predictions = model(images)\n",
    "            predictions = torch.argmax(predictions, dim=1)\n",
    "\n",
    "            correct_predictions += (predictions == labels).detach().cpu().float().sum().item()\n",
    "\n",
    "    print(f\"Test set accuracy {(100 * correct_predictions / len(test_loader.dataset)):.2f} %\")"
   ]
  },
  {
   "cell_type": "code",
   "execution_count": null,
   "metadata": {},
   "outputs": [],
   "source": [
    "# Usando las funciones definidas arriba entrenar un modelo es trivial\n",
    "train_model(ff_model, train_loader, val_loader, loss_func=criterion, optimizer=ff_optimizer, epochs=15)"
   ]
  },
  {
   "cell_type": "code",
   "execution_count": null,
   "metadata": {},
   "outputs": [],
   "source": [
    "test_model(ff_model, test_loader)"
   ]
  },
  {
   "cell_type": "markdown",
   "metadata": {},
   "source": [
    "# Redes Convolucionales\n",
    "\n",
    "\n",
    "![Image](https://www.unite.ai/wp-content/uploads/2019/12/Typical_cnn-1.png)\n",
    "\n",
    "\n",
    "Las redes convolucionales (CNNs) se basan en el uso de una técnica muy usada en el campo de computer vision tradicional, las [convoluciones](https://en.wikipedia.org/wiki/Kernel_\\(image_processing\\)) , la idea es crear un filtro pequeño que pasamos por encima de toda la imagen y nos permite detectar distintos elementos (como son líneas verticales, horizontales, diagonales, circulos, etc). EL gran problema de las convoluciones es que para crear dichos filtros debemos poder especificar distintos valores (pesos) para cada región en el mismo. \n",
    "\n",
    "Cada filtro (tambien conocido como kernel) nos permite identificar algo en particular en la imágen, y aplicar un filtro al resultado de otro (u otros) nos permite obtener informacion de más alto nivel (como por ejemplo detectar ojos, ruedas, puertas, etc).\n",
    "\n",
    "![Image](https://d2l.ai/_images/correlation.svg)\n",
    "\n",
    "***\n",
    "\n",
    "Las redes convolucionales nos dan una manera de no sólo aprender los valores óptimos para dichos filtros (mediante backprop) sino tambien la posibilidad de hacerlo a escala usndo un número arbitrario de los mismos. Una gran ventaja que nos trae el uso de filtros, es el hecho de que requieren de un número muy chico de pesos a entrenar, lo que reduce el tamaño de nuestra red y nos permite entrenar mas rápido (o redes mas grandes y profundas con el mismo hardware).\n",
    "\n",
    "Una cosa a notar en las redes convolucionales es el hecho de que las imágenes se van reduciendo en su tamaño a medida que fluyen por la red, esto se debe a la opeación de `maxpooling` que toma regiones (por lo general de 2x2) en nuestra imagen y se queda con el valor más alto en la zona, reduciendo asi el tamaño de la imagen. El resultado de aplicar un filtro de convolución a una imagen se llama `feature_map` y se puede pensar como otra imagen que describe la características de la original. \n",
    "\n",
    "***\n",
    "\n",
    "Al final de nuestra red, necesitamos formar una predicción de la clase de nuestra imagen, por lo que tenemos que \"achatar\" estos feature maps y pasarlos por una (o varias) capas lineales que generen una predicción. Esto se puede ver como representar toda la informacion que conocemos de la imagen, como por ejemplo si tiene nariz, orejas, pelo, en un sólo vector; y decidir que ese vector representa a un perro.\n",
    "\n",
    "***\n",
    "\n",
    "Visualización de la red convolucional: https://adamharley.com/nn_vis/cnn/2d.html"
   ]
  },
  {
   "cell_type": "code",
   "execution_count": null,
   "metadata": {},
   "outputs": [],
   "source": [
    "# Descargamos los datasets\n",
    "mnist_train_dataset = dsets.FashionMNIST(MNIST_PATH, download=True, train=True, transform=transforms.ToTensor())\n",
    "\n",
    "# Separamos el train set en train y validation\n",
    "train_size = int(0.8 * len(mnist_train_dataset))\n",
    "val_size = len(mnist_train_dataset) - train_size\n",
    "train_set, val_set = torch.utils.data.random_split(mnist_train_dataset, [train_size, val_size])\n",
    "\n",
    "mnist_test_dataset = dsets.FashionMNIST(MNIST_PATH, download=True, train=False, transform=transforms.ToTensor())\n",
    "\n",
    "# Creamos objetos DataLoader (https://pytorch.org/docs/stable/data.html) que nos va a permitir crear batches de data automaticamente.\n",
    "\n",
    "# Cuantas imagenes obtener en cada iteracion!\n",
    "BATCH_SIZE = 64\n",
    "NUM_WORKERS = 1\n",
    "\n",
    "# Creamos los loaders\n",
    "train_loader = torch.utils.data.DataLoader(train_set, batch_size=BATCH_SIZE, shuffle=True, num_workers=NUM_WORKERS)\n",
    "val_loader = torch.utils.data.DataLoader(val_set, batch_size=BATCH_SIZE, shuffle=False, num_workers=NUM_WORKERS)\n",
    "\n",
    "test_loader = torch.utils.data.DataLoader(mnist_test_dataset, batch_size=BATCH_SIZE, shuffle=False, num_workers=NUM_WORKERS)"
   ]
  },
  {
   "cell_type": "markdown",
   "metadata": {},
   "source": [
    "### Modelo Convolucional\n",
    "\n",
    "Igual que con el modelo FeedForward, para crear un modelo usando convoluciones necesitamos crear una clase, definir los metodos **init** y **forward** y especificar la arquitectura y comportamiento de los componentes del modelo. \n",
    "\n",
    "En particular vamos a usar:\n",
    "\n",
    "- capas convolucionales de 2D (https://pytorch.org/docs/stable/nn.html#conv2d) a las que tenemos que especificarles la cantidad de canales de entrada (1 para gris, 3 para color y X para el resultado de un filtro anterior), una cantidad de filtros a usar (out_channels), el tamaño de los mismos (kernel_size) y si aplicamos padding (relleno) o no (esto nos permite hacer convoluciones que no modifiquen el tamaño original de las imagenes). \n",
    "\n",
    "- Capas de maxpooling (https://pytorch.org/docs/stable/nn.html#maxpool2d) a las que tenemos que decirles el tamaño de la ventana a mirar y el largo del paso que deben tomar (stride).\n",
    "\n",
    "- Finalmente tambien haremos uso de capas lineales y ReLUs como hicimos anteriormente."
   ]
  },
  {
   "cell_type": "code",
   "execution_count": null,
   "metadata": {},
   "outputs": [],
   "source": [
    "class ConvolutionalModel(nn.Module):\n",
    "    def __init__(self, number_classes):\n",
    "        super().__init__()\n",
    "        self.conv1 = nn.Conv2d(in_channels=1, out_channels=16, kernel_size=3, padding=1)\n",
    "        self.conv2 = nn.Conv2d(in_channels=16, out_channels=8, kernel_size=3, padding=1)\n",
    "        \n",
    "        self.pooling_layer = nn.MaxPool2d(kernel_size=2, stride=2)   # Regiones de 2x2 con paso 2.\n",
    "        \n",
    "        # Nuestras imagenes son de 28x28 y vamos a aplicar 2 veces la capa de pooling\n",
    "        # por lo que el resultado es de tamaño 7x7 (28 / 2 / 2).\n",
    "        # El 16 es porque terminamos con 16 feature maps de 7x7\n",
    "        \n",
    "        self.fc1 = nn.Linear(in_features=7*7*8, out_features=128) \n",
    "        \n",
    "        self.output = nn.Linear(in_features=128, out_features=number_classes)\n",
    "        \n",
    "\n",
    "    def forward(self, new_input):\n",
    "        # new_input shape: (batch_size, 1, 28, 28)\n",
    "        result = self.conv1(new_input)\n",
    "        # result shape: (batch_size, 16, 28, 28)\n",
    "        result = F.relu(self.pooling_layer(result))\n",
    "        # result shape: (batch_size, 16, 14, 14)\n",
    "        \n",
    "        result = self.conv2(result)\n",
    "        # result shape: (batch_size, 8, 14, 14)\n",
    "        result = F.relu(self.pooling_layer(result))     \n",
    "        # result shape: (batch_size, 8, 7, 7)\n",
    "        \n",
    "        # \"Achatamos\" los feature maps\n",
    "        result = result.view(result.size(0), -1)\n",
    "        result = F.relu(self.fc1(result))\n",
    "        \n",
    "        return self.output(result)"
   ]
  },
  {
   "cell_type": "code",
   "execution_count": null,
   "metadata": {},
   "outputs": [],
   "source": [
    "conv_model = ConvolutionalModel(number_classes=10).to(DEVICE)\n",
    "\n",
    "criterion = nn.CrossEntropyLoss().to(DEVICE)\n",
    "conv_optimizer = optim.SGD(conv_model.parameters(), lr=LEARNING_RATE)\n",
    "\n",
    "train_model(conv_model, train_loader, val_loader, loss_func=criterion, optimizer=conv_optimizer, epochs=15)"
   ]
  },
  {
   "cell_type": "code",
   "execution_count": null,
   "metadata": {},
   "outputs": [],
   "source": [
    "test_model(conv_model, test_loader)"
   ]
  },
  {
   "cell_type": "markdown",
   "metadata": {},
   "source": [
    "# Tareas\n",
    "\n",
    "- [extra] Mejorar el modelo de la red convolucional.\n",
    "- [extra] Probar con otros datasets de imagenes. "
   ]
  }
 ],
 "metadata": {
  "accelerator": "GPU",
  "colab": {
   "collapsed_sections": [],
   "name": "Intro to Pytorch.ipynb",
   "provenance": []
  },
  "kernelspec": {
   "display_name": "obl_taller_ia",
   "language": "python",
   "name": "python3"
  },
  "language_info": {
   "codemirror_mode": {
    "name": "ipython",
    "version": 3
   },
   "file_extension": ".py",
   "mimetype": "text/x-python",
   "name": "python",
   "nbconvert_exporter": "python",
   "pygments_lexer": "ipython3",
   "version": "3.11.12"
  }
 },
 "nbformat": 4,
 "nbformat_minor": 1
}
